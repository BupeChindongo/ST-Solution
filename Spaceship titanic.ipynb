{
 "cells": [
  {
   "cell_type": "markdown",
   "metadata": {},
   "source": [
    "<h2>Spaceship Titanic ML solution</h2>\n",
    "\n",
    "The purpose of this notebook is to describe the process by which we will predict whether a Spaceship Titanic passenger was transported to an alternate dimension during its collision with the spacetime anomaly. The process followed will be a typical data science workflow, and will include data exploration, wrangling, and prediction making, amongst other steps."
   ]
  },
  {
   "cell_type": "markdown",
   "metadata": {},
   "source": [
    "<h3>Problem Description</h3>\n",
    "\n",
    "The problem has been defined by Kaggle as: \n",
    "    <ul><li>In this competition your task is to predict whether a passenger was transported to an alternate dimension during the Spaceship Titanic's collision with the spacetime anomaly. To help you make these predictions, you're given a set of personal records recovered from the ship's damaged computer system.</li></ul>\n",
    "\n",
    "In addition, there is some notable domain information, also described on Kaggle. Here are some key points:\n",
    "<ul>\n",
    "    <li>The Spaceship Titanic was an interstellar passenger liner launched a month ago. With almost 13,000 passengers on board</li>\n",
    "    <li>Sadly, it met a similar fate as its namesake from 1000 years before. Though the ship stayed intact, almost half of the passengers were transported to an alternate dimension!</li>\n",
    "\n",
    "<ul>"
   ]
  },
  {
   "cell_type": "code",
   "execution_count": 867,
   "metadata": {},
   "outputs": [],
   "source": [
    "#data analysis and wrangling\n",
    "import pandas as pd\n",
    "import numpy as np\n",
    "import random as rnd\n",
    "\n",
    "#data visualization\n",
    "import seaborn as sns\n",
    "import matplotlib.pyplot as plt\n",
    "\n",
    "#prediction\n",
    "from sklearn.linear_model import LogisticRegression\n",
    "from sklearn.svm import SVC, LinearSVC\n",
    "\n",
    "import tensorflow as tf\n",
    "from keras.api.models import Sequential\n",
    "from keras.api.layers import Dense, Dropout\n",
    "\n",
    "\n",
    "from sklearn.preprocessing import StandardScaler\n"
   ]
  },
  {
   "cell_type": "markdown",
   "metadata": {},
   "source": [
    "<h3>Loading in data</h3>\n",
    "\n",
    "Using the pandas package, we begin by loading the data into data frames. In addition, we combine data sets to allow us to run operations on both datasets simultaneously.\n"
   ]
  },
  {
   "cell_type": "code",
   "execution_count": 868,
   "metadata": {},
   "outputs": [],
   "source": [
    "train_df = pd.read_csv('./train (1).csv')\n",
    "test_df = pd.read_csv('./test (1).csv')\n",
    "combine = [train_df, test_df]"
   ]
  },
  {
   "cell_type": "markdown",
   "metadata": {},
   "source": [
    "<h3>Understanding the data</h3>\n",
    "\n",
    "The first step to solving the problem is understanding the data. In order for us to understand the data, we display the data and make some observations. "
   ]
  },
  {
   "cell_type": "code",
   "execution_count": 869,
   "metadata": {},
   "outputs": [
    {
     "name": "stdout",
     "output_type": "stream",
     "text": [
      "['PassengerId' 'HomePlanet' 'CryoSleep' 'Cabin' 'Destination' 'Age' 'VIP'\n",
      " 'RoomService' 'FoodCourt' 'ShoppingMall' 'Spa' 'VRDeck' 'Name'\n",
      " 'Transported']\n"
     ]
    }
   ],
   "source": [
    "print(train_df.columns.values)"
   ]
  },
  {
   "cell_type": "markdown",
   "metadata": {},
   "source": [
    "The above python code gives us an idea of what data we are working with. However, we will want to be certain about the actual structure of the data in order to make observations which will help us in solving the problem. First, let us take a look at what the data physically looks like."
   ]
  },
  {
   "cell_type": "code",
   "execution_count": 870,
   "metadata": {},
   "outputs": [
    {
     "data": {
      "text/html": [
       "<div>\n",
       "<style scoped>\n",
       "    .dataframe tbody tr th:only-of-type {\n",
       "        vertical-align: middle;\n",
       "    }\n",
       "\n",
       "    .dataframe tbody tr th {\n",
       "        vertical-align: top;\n",
       "    }\n",
       "\n",
       "    .dataframe thead th {\n",
       "        text-align: right;\n",
       "    }\n",
       "</style>\n",
       "<table border=\"1\" class=\"dataframe\">\n",
       "  <thead>\n",
       "    <tr style=\"text-align: right;\">\n",
       "      <th></th>\n",
       "      <th>PassengerId</th>\n",
       "      <th>HomePlanet</th>\n",
       "      <th>CryoSleep</th>\n",
       "      <th>Cabin</th>\n",
       "      <th>Destination</th>\n",
       "      <th>Age</th>\n",
       "      <th>VIP</th>\n",
       "      <th>RoomService</th>\n",
       "      <th>FoodCourt</th>\n",
       "      <th>ShoppingMall</th>\n",
       "      <th>Spa</th>\n",
       "      <th>VRDeck</th>\n",
       "      <th>Name</th>\n",
       "      <th>Transported</th>\n",
       "    </tr>\n",
       "  </thead>\n",
       "  <tbody>\n",
       "    <tr>\n",
       "      <th>0</th>\n",
       "      <td>0001_01</td>\n",
       "      <td>Europa</td>\n",
       "      <td>False</td>\n",
       "      <td>B/0/P</td>\n",
       "      <td>TRAPPIST-1e</td>\n",
       "      <td>39.0</td>\n",
       "      <td>False</td>\n",
       "      <td>0.0</td>\n",
       "      <td>0.0</td>\n",
       "      <td>0.0</td>\n",
       "      <td>0.0</td>\n",
       "      <td>0.0</td>\n",
       "      <td>Maham Ofracculy</td>\n",
       "      <td>False</td>\n",
       "    </tr>\n",
       "    <tr>\n",
       "      <th>1</th>\n",
       "      <td>0002_01</td>\n",
       "      <td>Earth</td>\n",
       "      <td>False</td>\n",
       "      <td>F/0/S</td>\n",
       "      <td>TRAPPIST-1e</td>\n",
       "      <td>24.0</td>\n",
       "      <td>False</td>\n",
       "      <td>109.0</td>\n",
       "      <td>9.0</td>\n",
       "      <td>25.0</td>\n",
       "      <td>549.0</td>\n",
       "      <td>44.0</td>\n",
       "      <td>Juanna Vines</td>\n",
       "      <td>True</td>\n",
       "    </tr>\n",
       "    <tr>\n",
       "      <th>2</th>\n",
       "      <td>0003_01</td>\n",
       "      <td>Europa</td>\n",
       "      <td>False</td>\n",
       "      <td>A/0/S</td>\n",
       "      <td>TRAPPIST-1e</td>\n",
       "      <td>58.0</td>\n",
       "      <td>True</td>\n",
       "      <td>43.0</td>\n",
       "      <td>3576.0</td>\n",
       "      <td>0.0</td>\n",
       "      <td>6715.0</td>\n",
       "      <td>49.0</td>\n",
       "      <td>Altark Susent</td>\n",
       "      <td>False</td>\n",
       "    </tr>\n",
       "    <tr>\n",
       "      <th>3</th>\n",
       "      <td>0003_02</td>\n",
       "      <td>Europa</td>\n",
       "      <td>False</td>\n",
       "      <td>A/0/S</td>\n",
       "      <td>TRAPPIST-1e</td>\n",
       "      <td>33.0</td>\n",
       "      <td>False</td>\n",
       "      <td>0.0</td>\n",
       "      <td>1283.0</td>\n",
       "      <td>371.0</td>\n",
       "      <td>3329.0</td>\n",
       "      <td>193.0</td>\n",
       "      <td>Solam Susent</td>\n",
       "      <td>False</td>\n",
       "    </tr>\n",
       "    <tr>\n",
       "      <th>4</th>\n",
       "      <td>0004_01</td>\n",
       "      <td>Earth</td>\n",
       "      <td>False</td>\n",
       "      <td>F/1/S</td>\n",
       "      <td>TRAPPIST-1e</td>\n",
       "      <td>16.0</td>\n",
       "      <td>False</td>\n",
       "      <td>303.0</td>\n",
       "      <td>70.0</td>\n",
       "      <td>151.0</td>\n",
       "      <td>565.0</td>\n",
       "      <td>2.0</td>\n",
       "      <td>Willy Santantines</td>\n",
       "      <td>True</td>\n",
       "    </tr>\n",
       "  </tbody>\n",
       "</table>\n",
       "</div>"
      ],
      "text/plain": [
       "  PassengerId HomePlanet CryoSleep  Cabin  Destination   Age    VIP  \\\n",
       "0     0001_01     Europa     False  B/0/P  TRAPPIST-1e  39.0  False   \n",
       "1     0002_01      Earth     False  F/0/S  TRAPPIST-1e  24.0  False   \n",
       "2     0003_01     Europa     False  A/0/S  TRAPPIST-1e  58.0   True   \n",
       "3     0003_02     Europa     False  A/0/S  TRAPPIST-1e  33.0  False   \n",
       "4     0004_01      Earth     False  F/1/S  TRAPPIST-1e  16.0  False   \n",
       "\n",
       "   RoomService  FoodCourt  ShoppingMall     Spa  VRDeck               Name  \\\n",
       "0          0.0        0.0           0.0     0.0     0.0    Maham Ofracculy   \n",
       "1        109.0        9.0          25.0   549.0    44.0       Juanna Vines   \n",
       "2         43.0     3576.0           0.0  6715.0    49.0      Altark Susent   \n",
       "3          0.0     1283.0         371.0  3329.0   193.0       Solam Susent   \n",
       "4        303.0       70.0         151.0   565.0     2.0  Willy Santantines   \n",
       "\n",
       "   Transported  \n",
       "0        False  \n",
       "1         True  \n",
       "2        False  \n",
       "3        False  \n",
       "4         True  "
      ]
     },
     "execution_count": 870,
     "metadata": {},
     "output_type": "execute_result"
    }
   ],
   "source": [
    "train_df.head()"
   ]
  },
  {
   "cell_type": "markdown",
   "metadata": {},
   "source": [
    "<h3>Observations</h3>\n",
    "\n",
    "Based on the above results, we can classify the features according to the statistical types of the data:\n",
    "\n",
    "\n",
    "<b>Nominal:</b>\n",
    "PassengerId, HomePlanet, CryoSleep, Destination, VIP, Name, Transported\n",
    "\n",
    "<b>Continuous:</b>\n",
    "Age, RoomService, FoodCourt, ShoppingMall, Spa, VRDeck\n",
    "\n",
    "<b>Mixed:</b>\n",
    "Cabin\n",
    "\n",
    "Note that Cabin has been marked as \"Mixed\" since it contains a mix of data types describing the location of the cabin."
   ]
  },
  {
   "cell_type": "markdown",
   "metadata": {},
   "source": [
    "<h4>Now that we have a better understanding of what we are working with, we will further explore our data</h4>"
   ]
  },
  {
   "cell_type": "code",
   "execution_count": 871,
   "metadata": {},
   "outputs": [
    {
     "name": "stdout",
     "output_type": "stream",
     "text": [
      "<class 'pandas.core.frame.DataFrame'>\n",
      "RangeIndex: 8693 entries, 0 to 8692\n",
      "Data columns (total 14 columns):\n",
      " #   Column        Non-Null Count  Dtype  \n",
      "---  ------        --------------  -----  \n",
      " 0   PassengerId   8693 non-null   object \n",
      " 1   HomePlanet    8492 non-null   object \n",
      " 2   CryoSleep     8476 non-null   object \n",
      " 3   Cabin         8494 non-null   object \n",
      " 4   Destination   8511 non-null   object \n",
      " 5   Age           8514 non-null   float64\n",
      " 6   VIP           8490 non-null   object \n",
      " 7   RoomService   8512 non-null   float64\n",
      " 8   FoodCourt     8510 non-null   float64\n",
      " 9   ShoppingMall  8485 non-null   float64\n",
      " 10  Spa           8510 non-null   float64\n",
      " 11  VRDeck        8505 non-null   float64\n",
      " 12  Name          8493 non-null   object \n",
      " 13  Transported   8693 non-null   bool   \n",
      "dtypes: bool(1), float64(6), object(7)\n",
      "memory usage: 891.5+ KB\n",
      "************************************************************\n",
      "<class 'pandas.core.frame.DataFrame'>\n",
      "RangeIndex: 4277 entries, 0 to 4276\n",
      "Data columns (total 13 columns):\n",
      " #   Column        Non-Null Count  Dtype  \n",
      "---  ------        --------------  -----  \n",
      " 0   PassengerId   4277 non-null   object \n",
      " 1   HomePlanet    4190 non-null   object \n",
      " 2   CryoSleep     4184 non-null   object \n",
      " 3   Cabin         4177 non-null   object \n",
      " 4   Destination   4185 non-null   object \n",
      " 5   Age           4186 non-null   float64\n",
      " 6   VIP           4184 non-null   object \n",
      " 7   RoomService   4195 non-null   float64\n",
      " 8   FoodCourt     4171 non-null   float64\n",
      " 9   ShoppingMall  4179 non-null   float64\n",
      " 10  Spa           4176 non-null   float64\n",
      " 11  VRDeck        4197 non-null   float64\n",
      " 12  Name          4183 non-null   object \n",
      "dtypes: float64(6), object(7)\n",
      "memory usage: 434.5+ KB\n"
     ]
    }
   ],
   "source": [
    "train_df.info()\n",
    "print('*' * 60)\n",
    "test_df.info()"
   ]
  },
  {
   "cell_type": "markdown",
   "metadata": {},
   "source": [
    "<h4>Nulls</h4>\n",
    "As seen above, both datasets contain a significant number of null, blank, or empty values. The only columns that do not contain null values are:\n",
    "\n",
    "<b>Training set:</b>\n",
    "PassengerId, Transported<br>\n",
    "<b>Testing set:</b>\n",
    "PassengerId\n",
    "\n",
    "This means that all other columns require correcting in terms of null-handling.\n"
   ]
  },
  {
   "cell_type": "markdown",
   "metadata": {},
   "source": [
    "<h3>Distribution of numerical features</h3>\n",
    "\n",
    "For further understanding of out data, we will explore how the numerical features in our training set are distributed."
   ]
  },
  {
   "cell_type": "code",
   "execution_count": 872,
   "metadata": {},
   "outputs": [
    {
     "data": {
      "text/html": [
       "<div>\n",
       "<style scoped>\n",
       "    .dataframe tbody tr th:only-of-type {\n",
       "        vertical-align: middle;\n",
       "    }\n",
       "\n",
       "    .dataframe tbody tr th {\n",
       "        vertical-align: top;\n",
       "    }\n",
       "\n",
       "    .dataframe thead th {\n",
       "        text-align: right;\n",
       "    }\n",
       "</style>\n",
       "<table border=\"1\" class=\"dataframe\">\n",
       "  <thead>\n",
       "    <tr style=\"text-align: right;\">\n",
       "      <th></th>\n",
       "      <th>Age</th>\n",
       "      <th>RoomService</th>\n",
       "      <th>FoodCourt</th>\n",
       "      <th>ShoppingMall</th>\n",
       "      <th>Spa</th>\n",
       "      <th>VRDeck</th>\n",
       "    </tr>\n",
       "  </thead>\n",
       "  <tbody>\n",
       "    <tr>\n",
       "      <th>count</th>\n",
       "      <td>8514.000000</td>\n",
       "      <td>8512.000000</td>\n",
       "      <td>8510.000000</td>\n",
       "      <td>8485.000000</td>\n",
       "      <td>8510.000000</td>\n",
       "      <td>8505.000000</td>\n",
       "    </tr>\n",
       "    <tr>\n",
       "      <th>mean</th>\n",
       "      <td>28.827930</td>\n",
       "      <td>224.687617</td>\n",
       "      <td>458.077203</td>\n",
       "      <td>173.729169</td>\n",
       "      <td>311.138778</td>\n",
       "      <td>304.854791</td>\n",
       "    </tr>\n",
       "    <tr>\n",
       "      <th>std</th>\n",
       "      <td>14.489021</td>\n",
       "      <td>666.717663</td>\n",
       "      <td>1611.489240</td>\n",
       "      <td>604.696458</td>\n",
       "      <td>1136.705535</td>\n",
       "      <td>1145.717189</td>\n",
       "    </tr>\n",
       "    <tr>\n",
       "      <th>min</th>\n",
       "      <td>0.000000</td>\n",
       "      <td>0.000000</td>\n",
       "      <td>0.000000</td>\n",
       "      <td>0.000000</td>\n",
       "      <td>0.000000</td>\n",
       "      <td>0.000000</td>\n",
       "    </tr>\n",
       "    <tr>\n",
       "      <th>25%</th>\n",
       "      <td>19.000000</td>\n",
       "      <td>0.000000</td>\n",
       "      <td>0.000000</td>\n",
       "      <td>0.000000</td>\n",
       "      <td>0.000000</td>\n",
       "      <td>0.000000</td>\n",
       "    </tr>\n",
       "    <tr>\n",
       "      <th>50%</th>\n",
       "      <td>27.000000</td>\n",
       "      <td>0.000000</td>\n",
       "      <td>0.000000</td>\n",
       "      <td>0.000000</td>\n",
       "      <td>0.000000</td>\n",
       "      <td>0.000000</td>\n",
       "    </tr>\n",
       "    <tr>\n",
       "      <th>75%</th>\n",
       "      <td>38.000000</td>\n",
       "      <td>47.000000</td>\n",
       "      <td>76.000000</td>\n",
       "      <td>27.000000</td>\n",
       "      <td>59.000000</td>\n",
       "      <td>46.000000</td>\n",
       "    </tr>\n",
       "    <tr>\n",
       "      <th>max</th>\n",
       "      <td>79.000000</td>\n",
       "      <td>14327.000000</td>\n",
       "      <td>29813.000000</td>\n",
       "      <td>23492.000000</td>\n",
       "      <td>22408.000000</td>\n",
       "      <td>24133.000000</td>\n",
       "    </tr>\n",
       "  </tbody>\n",
       "</table>\n",
       "</div>"
      ],
      "text/plain": [
       "               Age   RoomService     FoodCourt  ShoppingMall           Spa  \\\n",
       "count  8514.000000   8512.000000   8510.000000   8485.000000   8510.000000   \n",
       "mean     28.827930    224.687617    458.077203    173.729169    311.138778   \n",
       "std      14.489021    666.717663   1611.489240    604.696458   1136.705535   \n",
       "min       0.000000      0.000000      0.000000      0.000000      0.000000   \n",
       "25%      19.000000      0.000000      0.000000      0.000000      0.000000   \n",
       "50%      27.000000      0.000000      0.000000      0.000000      0.000000   \n",
       "75%      38.000000     47.000000     76.000000     27.000000     59.000000   \n",
       "max      79.000000  14327.000000  29813.000000  23492.000000  22408.000000   \n",
       "\n",
       "             VRDeck  \n",
       "count   8505.000000  \n",
       "mean     304.854791  \n",
       "std     1145.717189  \n",
       "min        0.000000  \n",
       "25%        0.000000  \n",
       "50%        0.000000  \n",
       "75%       46.000000  \n",
       "max    24133.000000  "
      ]
     },
     "execution_count": 872,
     "metadata": {},
     "output_type": "execute_result"
    }
   ],
   "source": [
    "train_df.describe()"
   ]
  },
  {
   "cell_type": "markdown",
   "metadata": {},
   "source": [
    "<h3>Observations for Numerical features</h3>\n",
    "\n",
    "<ul>\n",
    "<li>Miniscule number of elderly passengers. (<5%)</li>\n",
    "<li>Highest average spend for passengers was in the Food Court, which implies a greater amount of time spent here than other recreatinal areas.</li>\n",
    "<li>Room service contains both lowest average and max spend, implying passengers would rather eat at the food court than order room service.</li>\n",
    "</ul>"
   ]
  },
  {
   "cell_type": "markdown",
   "metadata": {},
   "source": [
    "<h3>Distribution of Non-numeric features</h3>\n",
    "\n",
    "For further understanding of out data, we will explore how the non-numeric features in our training set are distributed."
   ]
  },
  {
   "cell_type": "code",
   "execution_count": 873,
   "metadata": {},
   "outputs": [
    {
     "data": {
      "text/html": [
       "<div>\n",
       "<style scoped>\n",
       "    .dataframe tbody tr th:only-of-type {\n",
       "        vertical-align: middle;\n",
       "    }\n",
       "\n",
       "    .dataframe tbody tr th {\n",
       "        vertical-align: top;\n",
       "    }\n",
       "\n",
       "    .dataframe thead th {\n",
       "        text-align: right;\n",
       "    }\n",
       "</style>\n",
       "<table border=\"1\" class=\"dataframe\">\n",
       "  <thead>\n",
       "    <tr style=\"text-align: right;\">\n",
       "      <th></th>\n",
       "      <th>PassengerId</th>\n",
       "      <th>HomePlanet</th>\n",
       "      <th>CryoSleep</th>\n",
       "      <th>Cabin</th>\n",
       "      <th>Destination</th>\n",
       "      <th>VIP</th>\n",
       "      <th>Name</th>\n",
       "    </tr>\n",
       "  </thead>\n",
       "  <tbody>\n",
       "    <tr>\n",
       "      <th>count</th>\n",
       "      <td>8693</td>\n",
       "      <td>8492</td>\n",
       "      <td>8476</td>\n",
       "      <td>8494</td>\n",
       "      <td>8511</td>\n",
       "      <td>8490</td>\n",
       "      <td>8493</td>\n",
       "    </tr>\n",
       "    <tr>\n",
       "      <th>unique</th>\n",
       "      <td>8693</td>\n",
       "      <td>3</td>\n",
       "      <td>2</td>\n",
       "      <td>6560</td>\n",
       "      <td>3</td>\n",
       "      <td>2</td>\n",
       "      <td>8473</td>\n",
       "    </tr>\n",
       "    <tr>\n",
       "      <th>top</th>\n",
       "      <td>0001_01</td>\n",
       "      <td>Earth</td>\n",
       "      <td>False</td>\n",
       "      <td>G/734/S</td>\n",
       "      <td>TRAPPIST-1e</td>\n",
       "      <td>False</td>\n",
       "      <td>Gollux Reedall</td>\n",
       "    </tr>\n",
       "    <tr>\n",
       "      <th>freq</th>\n",
       "      <td>1</td>\n",
       "      <td>4602</td>\n",
       "      <td>5439</td>\n",
       "      <td>8</td>\n",
       "      <td>5915</td>\n",
       "      <td>8291</td>\n",
       "      <td>2</td>\n",
       "    </tr>\n",
       "  </tbody>\n",
       "</table>\n",
       "</div>"
      ],
      "text/plain": [
       "       PassengerId HomePlanet CryoSleep    Cabin  Destination    VIP  \\\n",
       "count         8693       8492      8476     8494         8511   8490   \n",
       "unique        8693          3         2     6560            3      2   \n",
       "top        0001_01      Earth     False  G/734/S  TRAPPIST-1e  False   \n",
       "freq             1       4602      5439        8         5915   8291   \n",
       "\n",
       "                  Name  \n",
       "count             8493  \n",
       "unique            8473  \n",
       "top     Gollux Reedall  \n",
       "freq                 2  "
      ]
     },
     "execution_count": 873,
     "metadata": {},
     "output_type": "execute_result"
    }
   ],
   "source": [
    "train_df.describe(include=['O'])"
   ]
  },
  {
   "cell_type": "markdown",
   "metadata": {},
   "source": [
    "<h3>Observations for non-numeric data</h3>\n",
    "\n",
    "<ul>\n",
    "<li>HomePlanet has three possible values, with Earth being the most frequent.</li>\n",
    "<li>CryoSleep has two possible values, true or false, with false being the most frequent.</li>\n",
    "<li>Cabin has a high ratio of duplicate values (~23%).</li>\n",
    "<li>Cabin G/734/S was shared by eight people.</li>\n",
    "<li>Destination has three possible values, with the majority being TRAPPIST-1e.</li>\n",
    "<li>VIP has two possible values, true or false, with false being the vast majority (~98%).</li>\n",
    "<li>There are twenty names which are duplicated. Further exploration needed to determine the cause.</li>\n",
    "</ul>"
   ]
  },
  {
   "cell_type": "markdown",
   "metadata": {},
   "source": [
    "<h3>Assumptions</h3>\n",
    "\n",
    "Based on the analysis conducted up until this point, the following assumptions can be made:\n",
    "\n",
    "<b>Completing:</b>\n",
    "<ul><li>We want to complete all features which currently contain null values, aside from the recreational spend features. This is because no data in this case is meaningful as it is indicative of a trend, and not there being random absence of data. </li></ul>\n",
    "\n",
    "<b>Correcting:</b>\n",
    "<ul>\n",
    "<li>PassengerId may be dropped, as it does not have an affect on being transported.</li>\n",
    "<li>Name may not have an impact on being transported, and contains duplicates. May be dropped from analysis.</li>\n",
    "<li>HomePlanet may not have an impact on being transported and thus may be dropped from our analysis.</li></ul>\n",
    "\n",
    "<b>Creating</b>\n",
    "<ul>\n",
    "<li>Cabin may be separated into multiple features and one-hot encoded, as it is likely that the deck, or at least side have an impact on being transported.</li>\n",
    "<li>We may want to create a new feature for Age bands to turn this into an ordinal categorical feature.</li>\n",
    "<li>We may want to create a feature indicating where the passenger spent the most money. Alternatively, this can be handled similarly to Age depending on what helps our analysis more.</li>\n",
    "</ul>\n",
    "\n",
    "<b>Classifying</b>\n",
    "\n",
    "Additional assumptions based on our problem description:\n",
    "\n",
    "1. VIP More likely to have been transported?\n",
    "2. More money spent indicates more time spent at that recreational facility?\n"
   ]
  },
  {
   "cell_type": "markdown",
   "metadata": {},
   "source": [
    "<h3>Exploring assumptions</h3>\n",
    "\n",
    "In order to confirm some of our earlier assumptions, we will utilize pivot tables to observe the correlations of certain features."
   ]
  },
  {
   "cell_type": "code",
   "execution_count": 874,
   "metadata": {},
   "outputs": [
    {
     "data": {
      "text/html": [
       "<div>\n",
       "<style scoped>\n",
       "    .dataframe tbody tr th:only-of-type {\n",
       "        vertical-align: middle;\n",
       "    }\n",
       "\n",
       "    .dataframe tbody tr th {\n",
       "        vertical-align: top;\n",
       "    }\n",
       "\n",
       "    .dataframe thead th {\n",
       "        text-align: right;\n",
       "    }\n",
       "</style>\n",
       "<table border=\"1\" class=\"dataframe\">\n",
       "  <thead>\n",
       "    <tr style=\"text-align: right;\">\n",
       "      <th></th>\n",
       "      <th>VIP</th>\n",
       "      <th>Transported</th>\n",
       "    </tr>\n",
       "  </thead>\n",
       "  <tbody>\n",
       "    <tr>\n",
       "      <th>1</th>\n",
       "      <td>True</td>\n",
       "      <td>0.381910</td>\n",
       "    </tr>\n",
       "    <tr>\n",
       "      <th>0</th>\n",
       "      <td>False</td>\n",
       "      <td>0.506332</td>\n",
       "    </tr>\n",
       "  </tbody>\n",
       "</table>\n",
       "</div>"
      ],
      "text/plain": [
       "     VIP  Transported\n",
       "1   True     0.381910\n",
       "0  False     0.506332"
      ]
     },
     "execution_count": 874,
     "metadata": {},
     "output_type": "execute_result"
    }
   ],
   "source": [
    "train_df[['VIP', 'Transported']].groupby(['VIP'], as_index=False).mean().sort_values(by='VIP', ascending=False)"
   ]
  },
  {
   "cell_type": "code",
   "execution_count": 875,
   "metadata": {},
   "outputs": [
    {
     "data": {
      "text/html": [
       "<div>\n",
       "<style scoped>\n",
       "    .dataframe tbody tr th:only-of-type {\n",
       "        vertical-align: middle;\n",
       "    }\n",
       "\n",
       "    .dataframe tbody tr th {\n",
       "        vertical-align: top;\n",
       "    }\n",
       "\n",
       "    .dataframe thead th {\n",
       "        text-align: right;\n",
       "    }\n",
       "</style>\n",
       "<table border=\"1\" class=\"dataframe\">\n",
       "  <thead>\n",
       "    <tr style=\"text-align: right;\">\n",
       "      <th></th>\n",
       "      <th>HomePlanet</th>\n",
       "      <th>Transported</th>\n",
       "    </tr>\n",
       "  </thead>\n",
       "  <tbody>\n",
       "    <tr>\n",
       "      <th>2</th>\n",
       "      <td>Mars</td>\n",
       "      <td>0.523024</td>\n",
       "    </tr>\n",
       "    <tr>\n",
       "      <th>1</th>\n",
       "      <td>Europa</td>\n",
       "      <td>0.658846</td>\n",
       "    </tr>\n",
       "    <tr>\n",
       "      <th>0</th>\n",
       "      <td>Earth</td>\n",
       "      <td>0.423946</td>\n",
       "    </tr>\n",
       "  </tbody>\n",
       "</table>\n",
       "</div>"
      ],
      "text/plain": [
       "  HomePlanet  Transported\n",
       "2       Mars     0.523024\n",
       "1     Europa     0.658846\n",
       "0      Earth     0.423946"
      ]
     },
     "execution_count": 875,
     "metadata": {},
     "output_type": "execute_result"
    }
   ],
   "source": [
    "train_df[['HomePlanet', 'Transported']].groupby(['HomePlanet'], as_index=False).mean().sort_values(by='HomePlanet', ascending=False)"
   ]
  },
  {
   "cell_type": "markdown",
   "metadata": {},
   "source": [
    "Based on the results of pivoting features against each other, the following has been confirmed:\n",
    "\n",
    "VIPs are more likely to have been transported than regular passengers, considering they comprise an exceedingly small sample of our population, and have a high correlation to being transported.\n",
    "\n",
    "\n",
    "HomePlanet does have correlation with being transported and thus should not be dropped, but included in our model.\n",
    "\n",
    "<h3>Visualizing data</h3>\n",
    "\n",
    "Next, we will visualize our data in order to aid in analysis.\n",
    "\n",
    "In particular, we will be using histograms to explore correlations between numerical features and our target. This is because histograms can show us the distributions of continuous variables, which will aid in banding features like Age and recreational spending."
   ]
  },
  {
   "cell_type": "code",
   "execution_count": 876,
   "metadata": {},
   "outputs": [
    {
     "data": {
      "text/plain": [
       "<seaborn.axisgrid.FacetGrid at 0x2060f86ca50>"
      ]
     },
     "execution_count": 876,
     "metadata": {},
     "output_type": "execute_result"
    },
    {
     "data": {
      "image/png": "[encoded data removed]",
      "text/plain": [
       "<Figure size 600x300 with 2 Axes>"
      ]
     },
     "metadata": {},
     "output_type": "display_data"
    }
   ],
   "source": [
    "g = sns.FacetGrid(train_df, col='Transported')\n",
    "g.map(plt.hist, 'Age', bins=20)"
   ]
  },
  {
   "cell_type": "markdown",
   "metadata": {},
   "source": [
    "<h3>Observations</h3>\n",
    "\n",
    "<ul>\n",
    "<li>Age does not seem to have a significant impact on being transported, as the distribution of the histograms are similar to the age distribution.</li>\n",
    "<li>A high proportion of infants were transported, indicating the need for further analysis to determine the cause.</li>\n",
    "</ul>\n",
    "\n",
    "<h3>Decisions</h3>\n",
    "<ul>\n",
    "<li>Create age bands with intervals of 10 years.</li>\n",
    "</ul>"
   ]
  },
  {
   "cell_type": "code",
   "execution_count": 877,
   "metadata": {},
   "outputs": [
    {
     "data": {
      "text/plain": [
       "<seaborn.axisgrid.FacetGrid at 0x2060f6eac10>"
      ]
     },
     "execution_count": 877,
     "metadata": {},
     "output_type": "execute_result"
    },
    {
     "data": {
      "image/png": "[encoded data removed]",
      "text/plain": [
       "<Figure size 716.222x660 with 6 Axes>"
      ]
     },
     "metadata": {},
     "output_type": "display_data"
    }
   ],
   "source": [
    "grid = sns.FacetGrid(train_df, col='Transported', row='HomePlanet', height=2.2, aspect=1.6)\n",
    "grid.map(plt.hist, 'Age', alpha=.5, bins=20)\n",
    "grid.add_legend()"
   ]
  },
  {
   "cell_type": "markdown",
   "metadata": {},
   "source": [
    "<h3>Observations</h3>\n",
    "\n",
    "<ul>\n",
    "<li>We once again observe that infants comparative to other age groups, have a high likelihood of being transorted, and particularly infants on Earth.</li>\n",
    "<li>Earth, which had the highest number of passengers, has a relatively low proportion of transported passengers compared to other planets.</li>\n",
    "</ul>\n",
    "\n",
    "<h3>Decisions</h3>\n",
    "<ul>\n",
    "<li>HomePlanet should definitively be included in our model, validating earlier assumptions</li>\n",
    "<li>Complete HomePlanet</li>\n",
    "</ul>\n",
    "\n",
    "Next, we will work on correlating categorical features to our target to further explore our data."
   ]
  },
  {
   "cell_type": "code",
   "execution_count": 878,
   "metadata": {},
   "outputs": [
    {
     "name": "stderr",
     "output_type": "stream",
     "text": [
      "c:\\Users\\BupeChindongo\\OneDrive\\2024\\Upskilling\\Projects\\Kaggle competitions\\Spaceship titanic\\venv\\Lib\\site-packages\\seaborn\\axisgrid.py:718: UserWarning: Using the pointplot function without specifying `order` is likely to produce an incorrect plot.\n",
      "  warnings.warn(warning)\n",
      "c:\\Users\\BupeChindongo\\OneDrive\\2024\\Upskilling\\Projects\\Kaggle competitions\\Spaceship titanic\\venv\\Lib\\site-packages\\seaborn\\axisgrid.py:723: UserWarning: Using the pointplot function without specifying `hue_order` is likely to produce an incorrect plot.\n",
      "  warnings.warn(warning)\n"
     ]
    },
    {
     "data": {
      "image/png": "[encoded data removed]",
      "text/plain": [
       "<Figure size 908.472x800 with 2 Axes>"
      ]
     },
     "metadata": {},
     "output_type": "display_data"
    }
   ],
   "source": [
    "sns.set_theme(style=\"whitegrid\")\n",
    "\n",
    "\n",
    "grid = sns.FacetGrid(train_df, row='VIP', height=4, aspect=2)\n",
    "grid.map(sns.pointplot, 'CryoSleep', 'Transported', 'HomePlanet', \n",
    "         palette='dark', errorbar='sd', dodge=True)\n",
    "\n",
    "grid.add_legend(title='Home Planet', bbox_to_anchor=(1.05, 0.5), loc='center right')\n",
    "grid.set_axis_labels('CryoSleep Status', 'Probability of Being Transported')\n",
    "plt.xticks(rotation=45)\n",
    "plt.subplots_adjust(right=0.8)\n",
    "plt.show()"
   ]
  },
  {
   "cell_type": "markdown",
   "metadata": {},
   "source": [
    "<h3>Observations</h3>\n",
    "\n",
    "<ul>\n",
    "<li>There is a significant correlation between being transported and being a VIP.</li>\n",
    "<li>VIPs who were in CryoSleep were not transported for Earth and Mars.</li>\n",
    "<li>Those who were not VIPs and were in cryosleep had a significantly high probability of being transported. </li>\n",
    "</ul>\n",
    "\n",
    "\n",
    "<h3>Decisions</h3>\n",
    "<ul>\n",
    "<li>Complete CryoSleep and VIP features as they will be important to our model, Validating assumption 1.</li>\n",
    "</ul>"
   ]
  },
  {
   "cell_type": "markdown",
   "metadata": {},
   "source": [
    "<h3>Wrangle Data</h3>\n",
    "\n",
    "We will now begin the data wrangling process in order to action our decisions based on our assumptions. We will achieve this by creating, modifying, and completing features in our dataset.\n",
    "\n",
    "<h3>Drop features</h3>\n",
    "\n",
    "As it is the fastest task, and will allow us to deal with fewer data points, we will begin by dropping the 'PassengerId' and 'Name' features."
   ]
  },
  {
   "cell_type": "code",
   "execution_count": 879,
   "metadata": {},
   "outputs": [],
   "source": [
    "\n",
    "\n",
    "train_df = train_df.drop(['Name'], axis=1)\n",
    "test_df = test_df.drop(['Name'], axis=1)"
   ]
  },
  {
   "cell_type": "markdown",
   "metadata": {},
   "source": [
    "<h3>Completing features</h3>\n",
    "\n",
    "Following the dropping of features, we will complete all incomplete features outside of features related to recreational spend. This is necessary to get accurate results in the proceeding feature engineering.\n",
    "\n",
    "We will begin with Age, as Age has a high likelihood of being strongly correlated to being transported. "
   ]
  },
  {
   "cell_type": "code",
   "execution_count": 880,
   "metadata": {},
   "outputs": [
    {
     "data": {
      "text/plain": [
       "<seaborn.axisgrid.FacetGrid at 0x2060d244a50>"
      ]
     },
     "execution_count": 880,
     "metadata": {},
     "output_type": "execute_result"
    },
    {
     "data": {
      "image/png": "[encoded data removed]",
      "text/plain": [
       "<Figure size 716.222x660 with 6 Axes>"
      ]
     },
     "metadata": {},
     "output_type": "display_data"
    }
   ],
   "source": [
    "grid = sns.FacetGrid(train_df, col='VIP', row='HomePlanet', height=2.2, aspect=1.6)\n",
    "grid.map(plt.hist, 'Age', alpha=.5, bins=20)\n",
    "grid.add_legend()"
   ]
  },
  {
   "cell_type": "markdown",
   "metadata": {},
   "source": [
    "Age, as shown above, has a correlation with ones HomePlanet, as well as VIP status. based on this, we will impute the null age values based on the mode accross these two values. However, in order to impute Age accross HomePlanet and VIP, we need these two features to also be complete. Given the complexity that trying to impute these features based on other related features which may also contain nulls, we will impute these solely on their mode, as in these cases, the mode is the overwhelming majority of the features."
   ]
  },
  {
   "cell_type": "code",
   "execution_count": 881,
   "metadata": {},
   "outputs": [
    {
     "name": "stderr",
     "output_type": "stream",
     "text": [
      "C:\\Users\\BupeChindongo\\AppData\\Local\\Temp\\ipykernel_13712\\280637892.py:2: FutureWarning: Downcasting object dtype arrays on .fillna, .ffill, .bfill is deprecated and will change in a future version. Call result.infer_objects(copy=False) instead. To opt-in to the future behavior, set `pd.set_option('future.no_silent_downcasting', True)`\n",
      "  train_df['VIP'] = train_df['VIP'].fillna(train_df['VIP'].mode()[0])\n",
      "C:\\Users\\BupeChindongo\\AppData\\Local\\Temp\\ipykernel_13712\\280637892.py:5: FutureWarning: Downcasting object dtype arrays on .fillna, .ffill, .bfill is deprecated and will change in a future version. Call result.infer_objects(copy=False) instead. To opt-in to the future behavior, set `pd.set_option('future.no_silent_downcasting', True)`\n",
      "  test_df['VIP'] = test_df['VIP'].fillna(test_df['VIP'].mode()[0])\n"
     ]
    }
   ],
   "source": [
    "train_df['HomePlanet'] = train_df['HomePlanet'].fillna(train_df['HomePlanet'].mode()[0])\n",
    "train_df['VIP'] = train_df['VIP'].fillna(train_df['VIP'].mode()[0])\n",
    "\n",
    "test_df['HomePlanet'] = test_df['HomePlanet'].fillna(test_df['HomePlanet'].mode()[0])\n",
    "test_df['VIP'] = test_df['VIP'].fillna(test_df['VIP'].mode()[0])"
   ]
  },
  {
   "cell_type": "markdown",
   "metadata": {},
   "source": [
    "Now that we have completed these features, we may continue with the imputation of Age."
   ]
  },
  {
   "cell_type": "code",
   "execution_count": 882,
   "metadata": {},
   "outputs": [],
   "source": [
    "import pandas as pd\n",
    "\n",
    "\n",
    "mode_ages = train_df.groupby(['HomePlanet', 'VIP'])['Age'].agg(lambda x: x.mode().iloc[0] if not x.mode().empty else x.dropna().median())\n",
    "\n",
    "def impute_age_based_on_homeplanet_and_vip(df):\n",
    "    mode_ages = df.groupby(['HomePlanet', 'VIP'])['Age'].agg(\n",
    "        lambda x: x.mode().iloc[0] if not x.mode().empty else x.dropna().median()\n",
    "    )\n",
    "    \n",
    "    \n",
    "    def impute_age(row):\n",
    "        if pd.isnull(row['Age']):\n",
    "            return mode_ages[(row['HomePlanet'], row['VIP'])]\n",
    "        else:\n",
    "            return row['Age']\n",
    "    \n",
    "    df['Age'] = df.apply(impute_age, axis=1)\n",
    "    return df\n",
    "\n",
    "train_df = impute_age_based_on_homeplanet_and_vip(train_df)\n",
    "test_df = impute_age_based_on_homeplanet_and_vip(test_df)\n"
   ]
  },
  {
   "cell_type": "markdown",
   "metadata": {},
   "source": [
    "Next, we will impute cryosleep based on a passenger's VIP status. This is because it does not make sense financially to be a VIP and be in cryosleep, as it would under most cases be mismanagement of funds. We will first tabulate these features to confirm this assumption, and then proceed with this imputatin should the assumption be proven true."
   ]
  },
  {
   "cell_type": "code",
   "execution_count": 883,
   "metadata": {},
   "outputs": [
    {
     "name": "stdout",
     "output_type": "stream",
     "text": [
      "CryoSleep  False  True \n",
      "VIP                    \n",
      "False       5264   3016\n",
      "True         175     21\n"
     ]
    }
   ],
   "source": [
    "crosstab_cryosleep_vip = pd.crosstab(train_df['VIP'], train_df['CryoSleep'])\n",
    "print(crosstab_cryosleep_vip)"
   ]
  },
  {
   "cell_type": "code",
   "execution_count": 884,
   "metadata": {},
   "outputs": [],
   "source": [
    "\n",
    "\n",
    "def impute_cryosleep_based_on_vip(df):\n",
    "    \n",
    "    cryosleep_mode_by_vip = df.groupby('VIP')['CryoSleep'].agg(lambda x: x.mode()[0] if not x.mode().empty else x.dropna().mode()[0])\n",
    "    \n",
    "    \n",
    "    def impute_cryosleep(row):\n",
    "        if pd.isnull(row['CryoSleep']):\n",
    "            return cryosleep_mode_by_vip[row['VIP']]\n",
    "        else:\n",
    "            return row['CryoSleep']\n",
    "    \n",
    "    \n",
    "    df['CryoSleep'] = df.apply(impute_cryosleep, axis=1)\n",
    "    return df\n",
    "\n",
    "\n",
    "train_df = impute_cryosleep_based_on_vip(train_df)\n",
    "test_df = impute_cryosleep_based_on_vip(test_df)\n"
   ]
  },
  {
   "cell_type": "markdown",
   "metadata": {},
   "source": [
    "Finally, we will complete Destination based on a passenger's HomePlanet. We will leave cabin incomplete until feature engineering, as the state which it is currently in makes it very difficult to make any meaningful imputations."
   ]
  },
  {
   "cell_type": "code",
   "execution_count": 885,
   "metadata": {},
   "outputs": [],
   "source": [
    "import pandas as pd\n",
    "\n",
    "def impute_destination_based_on_homeplanet(df):\n",
    "    \n",
    "    mode_destination = df.groupby('HomePlanet')['Destination'].agg(\n",
    "        lambda x: x.mode()[0] if not x.mode().empty else x.dropna().mode()[0] if not x.dropna().empty else \"Default\"\n",
    "    )\n",
    "    \n",
    "    \n",
    "    def impute_destination(row):\n",
    "        if pd.isnull(row['Destination']):\n",
    "            return mode_destination[row['HomePlanet']]\n",
    "        else:\n",
    "            return row['Destination']\n",
    "    \n",
    "    \n",
    "    df['Destination'] = df.apply(impute_destination, axis=1)\n",
    "    return df\n",
    "\n",
    "\n",
    "train_df = impute_destination_based_on_homeplanet(train_df)\n",
    "test_df = impute_destination_based_on_homeplanet(test_df)\n"
   ]
  },
  {
   "cell_type": "markdown",
   "metadata": {},
   "source": [
    "<h3>Feature Engineering</h3>\n",
    "\n",
    "Next, we will engineer new features based on existing features, and change existing features to best fit the models which we will be building. \n",
    "\n",
    "The following changes will be made: \n",
    "<ul>\n",
    "<li>Age to be banded</li>\n",
    "<li>Cabin to be separated and one hot encoded</li>\n",
    "<li>Create new feature for highest recreational spend</li>\n",
    "<li>Band recreational spends</li>\n",
    "</ul>\n",
    "\n",
    "We begin by banding age."
   ]
  },
  {
   "cell_type": "code",
   "execution_count": 886,
   "metadata": {},
   "outputs": [],
   "source": [
    "bins = [0, 5, 12, 19, 35, 60, float('inf')] \n",
    "labels = ['Young Children', 'Children', 'Teenagers', 'Young Adults', 'Adults', 'Seniors']\n",
    "\n",
    "train_df['AgeGroup'] = pd.cut(train_df['Age'], bins=bins, labels=labels, right=False)\n",
    "test_df['AgeGroup'] = pd.cut(test_df['Age'], bins=bins, labels=labels, right=False)\n",
    "\n"
   ]
  },
  {
   "cell_type": "code",
   "execution_count": 887,
   "metadata": {},
   "outputs": [],
   "source": [
    "age_group_mapping = {\n",
    "    'Young Children': 0, \n",
    "    'Children': 1,\n",
    "    'Teenagers': 2,\n",
    "    'Young Adults': 3,\n",
    "    'Adults': 4,\n",
    "    'Seniors': 5  \n",
    "}\n",
    "\n",
    "train_df['Age'] = train_df['AgeGroup'].map(age_group_mapping)\n",
    "\n",
    "train_df = train_df.drop('AgeGroup', axis=1)\n",
    "\n",
    "test_df['Age'] = test_df['AgeGroup'].map(age_group_mapping)\n",
    "\n",
    "test_df = test_df.drop('AgeGroup', axis=1)"
   ]
  },
  {
   "cell_type": "markdown",
   "metadata": {},
   "source": [
    "Cabin Next."
   ]
  },
  {
   "cell_type": "code",
   "execution_count": 888,
   "metadata": {},
   "outputs": [
    {
     "name": "stdout",
     "output_type": "stream",
     "text": [
      "0\n"
     ]
    }
   ],
   "source": [
    "train_df[['Deck', 'Number', 'Side']] = train_df['Cabin'].str.split('/', expand=True)\n",
    "test_df[['Deck', 'Number', 'Side']] = test_df['Cabin'].str.split('/', expand=True)\n",
    "\n",
    "\n",
    "train_df['Number'] = pd.to_numeric(train_df['Number'], errors='coerce')\n",
    "test_df['Number'] = pd.to_numeric(test_df['Number'], errors='coerce')\n",
    "\n",
    "mode_value = train_df['Number'].mode()\n",
    "mode_number = mode_value[0]\n",
    "train_df['Number'] = train_df['Number'].fillna(mode_number)\n",
    "print(train_df['Number'].isnull().sum())\n",
    "\n",
    "mode_value = test_df['Number'].mode()\n",
    "mode_number = mode_value[0]\n",
    "test_df['Number'] = test_df['Number'].fillna(mode_number)\n"
   ]
  },
  {
   "cell_type": "code",
   "execution_count": 889,
   "metadata": {},
   "outputs": [],
   "source": [
    "train_df = pd.get_dummies(train_df, columns=['Side'])\n",
    "test_df = pd.get_dummies(test_df, columns=['Side'])\n"
   ]
  },
  {
   "cell_type": "code",
   "execution_count": 890,
   "metadata": {},
   "outputs": [],
   "source": [
    "train_df = train_df.drop('Deck', axis=1)\n",
    "train_df = train_df.drop('Cabin', axis=1)\n",
    "\n",
    "test_df = test_df.drop('Deck', axis=1)\n",
    "test_df = test_df.drop('Cabin', axis=1)"
   ]
  },
  {
   "cell_type": "markdown",
   "metadata": {},
   "source": [
    "Following this, we will fill in the NaNs in the recreational spend columns, and then create a feature indicating in which of the recreational areas someone had the highest spend."
   ]
  },
  {
   "cell_type": "code",
   "execution_count": 891,
   "metadata": {},
   "outputs": [
    {
     "name": "stdout",
     "output_type": "stream",
     "text": [
      "RoomService     0\n",
      "FoodCourt       0\n",
      "ShoppingMall    0\n",
      "Spa             0\n",
      "VRDeck          0\n",
      "dtype: int64\n"
     ]
    }
   ],
   "source": [
    "spend_columns = ['RoomService', 'FoodCourt', 'ShoppingMall', 'Spa', 'VRDeck']\n",
    "train_df[spend_columns] = train_df[spend_columns].fillna(0)\n",
    "test_df[spend_columns] = test_df[spend_columns].fillna(0)\n",
    "\n",
    "print(train_df[spend_columns].isnull().sum())  \n"
   ]
  },
  {
   "cell_type": "code",
   "execution_count": 892,
   "metadata": {},
   "outputs": [
    {
     "name": "stdout",
     "output_type": "stream",
     "text": [
      "  MaxSpendArea\n",
      "0  RoomService\n",
      "1          Spa\n",
      "2          Spa\n",
      "3          Spa\n",
      "4          Spa\n"
     ]
    }
   ],
   "source": [
    "spend_columns = ['RoomService', 'FoodCourt', 'ShoppingMall', 'Spa', 'VRDeck']\n",
    "train_df['MaxSpendArea'] = train_df[spend_columns].idxmax(axis=1)\n",
    "\n",
    "test_df['MaxSpendArea'] = test_df[spend_columns].idxmax(axis=1)\n",
    "\n",
    "\n",
    "print(train_df[['MaxSpendArea']].head())\n"
   ]
  },
  {
   "cell_type": "code",
   "execution_count": 893,
   "metadata": {},
   "outputs": [],
   "source": [
    "#One-hot encode Max Spend Area\n",
    "train_df = pd.get_dummies(train_df, columns=['MaxSpendArea'])\n",
    "test_df = pd.get_dummies(test_df, columns=['MaxSpendArea'])"
   ]
  },
  {
   "cell_type": "markdown",
   "metadata": {},
   "source": [
    "Finally, let us change the formats of HomePlanet and Destination so that they can be understood by our models."
   ]
  },
  {
   "cell_type": "code",
   "execution_count": 894,
   "metadata": {},
   "outputs": [],
   "source": [
    "train_df = pd.get_dummies(train_df, columns=['HomePlanet', 'Destination'])\n",
    "\n",
    "test_df = pd.get_dummies(test_df, columns=['HomePlanet', 'Destination'])\n",
    "\n"
   ]
  },
  {
   "cell_type": "markdown",
   "metadata": {},
   "source": [
    "<h3>Model</h3>\n",
    "\n",
    "We are now ready to train models and predict the solution. Given that we are modelling from a supervised learning approach, and we want to idetify a relationship between a target variable and other variables, there are a few models which are ideal for this task. However, due to the number of features that our feature engineering has resulted it, it seems prudent to utilize a neural network for this task."
   ]
  },
  {
   "cell_type": "code",
   "execution_count": 895,
   "metadata": {},
   "outputs": [
    {
     "name": "stderr",
     "output_type": "stream",
     "text": [
      "c:\\Users\\BupeChindongo\\OneDrive\\2024\\Upskilling\\Projects\\Kaggle competitions\\Spaceship titanic\\venv\\Lib\\site-packages\\keras\\src\\layers\\core\\dense.py:87: UserWarning: Do not pass an `input_shape`/`input_dim` argument to a layer. When using Sequential models, prefer using an `Input(shape)` object as the first layer in the model instead.\n",
      "  super().__init__(activity_regularizer=activity_regularizer, **kwargs)\n"
     ]
    },
    {
     "name": "stdout",
     "output_type": "stream",
     "text": [
      "Epoch 1/50\n",
      "\u001b[1m218/218\u001b[0m \u001b[32m━━━━━━━━━━━━━━━━━━━━\u001b[0m\u001b[37m\u001b[0m \u001b[1m6s\u001b[0m 14ms/step - accuracy: 0.6616 - loss: 0.5968 - val_accuracy: 0.7637 - val_loss: 0.4885\n",
      "Epoch 2/50\n",
      "\u001b[1m218/218\u001b[0m \u001b[32m━━━━━━━━━━━━━━━━━━━━\u001b[0m\u001b[37m\u001b[0m \u001b[1m1s\u001b[0m 2ms/step - accuracy: 0.7666 - loss: 0.4893 - val_accuracy: 0.7683 - val_loss: 0.4976\n",
      "Epoch 3/50\n",
      "\u001b[1m218/218\u001b[0m \u001b[32m━━━━━━━━━━━━━━━━━━━━\u001b[0m\u001b[37m\u001b[0m \u001b[1m1s\u001b[0m 2ms/step - accuracy: 0.7744 - loss: 0.4630 - val_accuracy: 0.7683 - val_loss: 0.5213\n",
      "Epoch 4/50\n",
      "\u001b[1m218/218\u001b[0m \u001b[32m━━━━━━━━━━━━━━━━━━━━\u001b[0m\u001b[37m\u001b[0m \u001b[1m0s\u001b[0m 2ms/step - accuracy: 0.7790 - loss: 0.4575 - val_accuracy: 0.7700 - val_loss: 0.5132\n",
      "Epoch 5/50\n",
      "\u001b[1m218/218\u001b[0m \u001b[32m━━━━━━━━━━━━━━━━━━━━\u001b[0m\u001b[37m\u001b[0m \u001b[1m1s\u001b[0m 3ms/step - accuracy: 0.7873 - loss: 0.4447 - val_accuracy: 0.7625 - val_loss: 0.5295\n",
      "Epoch 6/50\n",
      "\u001b[1m218/218\u001b[0m \u001b[32m━━━━━━━━━━━━━━━━━━━━\u001b[0m\u001b[37m\u001b[0m \u001b[1m1s\u001b[0m 2ms/step - accuracy: 0.7916 - loss: 0.4356 - val_accuracy: 0.7671 - val_loss: 0.5258\n",
      "Epoch 7/50\n",
      "\u001b[1m218/218\u001b[0m \u001b[32m━━━━━━━━━━━━━━━━━━━━\u001b[0m\u001b[37m\u001b[0m \u001b[1m1s\u001b[0m 2ms/step - accuracy: 0.7870 - loss: 0.4334 - val_accuracy: 0.7602 - val_loss: 0.5665\n",
      "Epoch 8/50\n",
      "\u001b[1m218/218\u001b[0m \u001b[32m━━━━━━━━━━━━━━━━━━━━\u001b[0m\u001b[37m\u001b[0m \u001b[1m0s\u001b[0m 2ms/step - accuracy: 0.7924 - loss: 0.4301 - val_accuracy: 0.7665 - val_loss: 0.5145\n",
      "Epoch 9/50\n",
      "\u001b[1m218/218\u001b[0m \u001b[32m━━━━━━━━━━━━━━━━━━━━\u001b[0m\u001b[37m\u001b[0m \u001b[1m0s\u001b[0m 2ms/step - accuracy: 0.7956 - loss: 0.4177 - val_accuracy: 0.7671 - val_loss: 0.5011\n",
      "Epoch 10/50\n",
      "\u001b[1m218/218\u001b[0m \u001b[32m━━━━━━━━━━━━━━━━━━━━\u001b[0m\u001b[37m\u001b[0m \u001b[1m1s\u001b[0m 3ms/step - accuracy: 0.7926 - loss: 0.4257 - val_accuracy: 0.7746 - val_loss: 0.5268\n",
      "Epoch 11/50\n",
      "\u001b[1m218/218\u001b[0m \u001b[32m━━━━━━━━━━━━━━━━━━━━\u001b[0m\u001b[37m\u001b[0m \u001b[1m1s\u001b[0m 2ms/step - accuracy: 0.7919 - loss: 0.4180 - val_accuracy: 0.7786 - val_loss: 0.5222\n",
      "Epoch 12/50\n",
      "\u001b[1m218/218\u001b[0m \u001b[32m━━━━━━━━━━━━━━━━━━━━\u001b[0m\u001b[37m\u001b[0m \u001b[1m0s\u001b[0m 2ms/step - accuracy: 0.7859 - loss: 0.4257 - val_accuracy: 0.7683 - val_loss: 0.5594\n",
      "Epoch 13/50\n",
      "\u001b[1m218/218\u001b[0m \u001b[32m━━━━━━━━━━━━━━━━━━━━\u001b[0m\u001b[37m\u001b[0m \u001b[1m1s\u001b[0m 2ms/step - accuracy: 0.7964 - loss: 0.4263 - val_accuracy: 0.7700 - val_loss: 0.5430\n",
      "Epoch 14/50\n",
      "\u001b[1m218/218\u001b[0m \u001b[32m━━━━━━━━━━━━━━━━━━━━\u001b[0m\u001b[37m\u001b[0m \u001b[1m1s\u001b[0m 2ms/step - accuracy: 0.7885 - loss: 0.4249 - val_accuracy: 0.7752 - val_loss: 0.5316\n",
      "Epoch 15/50\n",
      "\u001b[1m218/218\u001b[0m \u001b[32m━━━━━━━━━━━━━━━━━━━━\u001b[0m\u001b[37m\u001b[0m \u001b[1m1s\u001b[0m 2ms/step - accuracy: 0.7976 - loss: 0.4066 - val_accuracy: 0.7815 - val_loss: 0.5149\n",
      "Epoch 16/50\n",
      "\u001b[1m218/218\u001b[0m \u001b[32m━━━━━━━━━━━━━━━━━━━━\u001b[0m\u001b[37m\u001b[0m \u001b[1m1s\u001b[0m 2ms/step - accuracy: 0.8029 - loss: 0.4069 - val_accuracy: 0.7619 - val_loss: 0.5860\n",
      "Epoch 17/50\n",
      "\u001b[1m218/218\u001b[0m \u001b[32m━━━━━━━━━━━━━━━━━━━━\u001b[0m\u001b[37m\u001b[0m \u001b[1m1s\u001b[0m 3ms/step - accuracy: 0.8039 - loss: 0.4145 - val_accuracy: 0.7694 - val_loss: 0.5387\n",
      "Epoch 18/50\n",
      "\u001b[1m218/218\u001b[0m \u001b[32m━━━━━━━━━━━━━━━━━━━━\u001b[0m\u001b[37m\u001b[0m \u001b[1m0s\u001b[0m 2ms/step - accuracy: 0.8019 - loss: 0.4036 - val_accuracy: 0.7763 - val_loss: 0.5001\n",
      "Epoch 19/50\n",
      "\u001b[1m218/218\u001b[0m \u001b[32m━━━━━━━━━━━━━━━━━━━━\u001b[0m\u001b[37m\u001b[0m \u001b[1m1s\u001b[0m 2ms/step - accuracy: 0.8133 - loss: 0.4019 - val_accuracy: 0.7763 - val_loss: 0.5257\n",
      "Epoch 20/50\n",
      "\u001b[1m218/218\u001b[0m \u001b[32m━━━━━━━━━━━━━━━━━━━━\u001b[0m\u001b[37m\u001b[0m \u001b[1m0s\u001b[0m 2ms/step - accuracy: 0.8109 - loss: 0.4049 - val_accuracy: 0.7763 - val_loss: 0.4972\n",
      "Epoch 21/50\n",
      "\u001b[1m218/218\u001b[0m \u001b[32m━━━━━━━━━━━━━━━━━━━━\u001b[0m\u001b[37m\u001b[0m \u001b[1m1s\u001b[0m 2ms/step - accuracy: 0.7943 - loss: 0.4043 - val_accuracy: 0.7780 - val_loss: 0.4994\n",
      "Epoch 22/50\n",
      "\u001b[1m218/218\u001b[0m \u001b[32m━━━━━━━━━━━━━━━━━━━━\u001b[0m\u001b[37m\u001b[0m \u001b[1m0s\u001b[0m 2ms/step - accuracy: 0.8021 - loss: 0.4004 - val_accuracy: 0.7792 - val_loss: 0.5383\n",
      "Epoch 23/50\n",
      "\u001b[1m218/218\u001b[0m \u001b[32m━━━━━━━━━━━━━━━━━━━━\u001b[0m\u001b[37m\u001b[0m \u001b[1m1s\u001b[0m 2ms/step - accuracy: 0.8053 - loss: 0.3951 - val_accuracy: 0.7792 - val_loss: 0.5163\n",
      "Epoch 24/50\n",
      "\u001b[1m218/218\u001b[0m \u001b[32m━━━━━━━━━━━━━━━━━━━━\u001b[0m\u001b[37m\u001b[0m \u001b[1m1s\u001b[0m 2ms/step - accuracy: 0.8062 - loss: 0.3911 - val_accuracy: 0.7838 - val_loss: 0.4989\n",
      "Epoch 25/50\n",
      "\u001b[1m218/218\u001b[0m \u001b[32m━━━━━━━━━━━━━━━━━━━━\u001b[0m\u001b[37m\u001b[0m \u001b[1m0s\u001b[0m 2ms/step - accuracy: 0.8086 - loss: 0.4006 - val_accuracy: 0.7821 - val_loss: 0.5223\n",
      "Epoch 26/50\n",
      "\u001b[1m218/218\u001b[0m \u001b[32m━━━━━━━━━━━━━━━━━━━━\u001b[0m\u001b[37m\u001b[0m \u001b[1m1s\u001b[0m 2ms/step - accuracy: 0.8074 - loss: 0.3956 - val_accuracy: 0.7861 - val_loss: 0.5213\n",
      "Epoch 27/50\n",
      "\u001b[1m218/218\u001b[0m \u001b[32m━━━━━━━━━━━━━━━━━━━━\u001b[0m\u001b[37m\u001b[0m \u001b[1m1s\u001b[0m 2ms/step - accuracy: 0.8052 - loss: 0.3948 - val_accuracy: 0.7918 - val_loss: 0.4833\n",
      "Epoch 28/50\n",
      "\u001b[1m218/218\u001b[0m \u001b[32m━━━━━━━━━━━━━━━━━━━━\u001b[0m\u001b[37m\u001b[0m \u001b[1m1s\u001b[0m 3ms/step - accuracy: 0.8004 - loss: 0.3951 - val_accuracy: 0.7895 - val_loss: 0.4678\n",
      "Epoch 29/50\n",
      "\u001b[1m218/218\u001b[0m \u001b[32m━━━━━━━━━━━━━━━━━━━━\u001b[0m\u001b[37m\u001b[0m \u001b[1m1s\u001b[0m 3ms/step - accuracy: 0.8110 - loss: 0.3901 - val_accuracy: 0.7849 - val_loss: 0.5180\n",
      "Epoch 30/50\n",
      "\u001b[1m218/218\u001b[0m \u001b[32m━━━━━━━━━━━━━━━━━━━━\u001b[0m\u001b[37m\u001b[0m \u001b[1m1s\u001b[0m 2ms/step - accuracy: 0.8053 - loss: 0.4005 - val_accuracy: 0.7947 - val_loss: 0.4990\n",
      "Epoch 31/50\n",
      "\u001b[1m218/218\u001b[0m \u001b[32m━━━━━━━━━━━━━━━━━━━━\u001b[0m\u001b[37m\u001b[0m \u001b[1m0s\u001b[0m 2ms/step - accuracy: 0.8016 - loss: 0.4002 - val_accuracy: 0.7890 - val_loss: 0.4821\n",
      "Epoch 32/50\n",
      "\u001b[1m218/218\u001b[0m \u001b[32m━━━━━━━━━━━━━━━━━━━━\u001b[0m\u001b[37m\u001b[0m \u001b[1m0s\u001b[0m 2ms/step - accuracy: 0.8015 - loss: 0.3908 - val_accuracy: 0.7918 - val_loss: 0.5125\n",
      "Epoch 33/50\n",
      "\u001b[1m218/218\u001b[0m \u001b[32m━━━━━━━━━━━━━━━━━━━━\u001b[0m\u001b[37m\u001b[0m \u001b[1m1s\u001b[0m 2ms/step - accuracy: 0.8097 - loss: 0.3982 - val_accuracy: 0.7959 - val_loss: 0.4869\n",
      "Epoch 34/50\n",
      "\u001b[1m218/218\u001b[0m \u001b[32m━━━━━━━━━━━━━━━━━━━━\u001b[0m\u001b[37m\u001b[0m \u001b[1m1s\u001b[0m 2ms/step - accuracy: 0.8107 - loss: 0.3843 - val_accuracy: 0.7901 - val_loss: 0.5241\n",
      "Epoch 35/50\n",
      "\u001b[1m218/218\u001b[0m \u001b[32m━━━━━━━━━━━━━━━━━━━━\u001b[0m\u001b[37m\u001b[0m \u001b[1m0s\u001b[0m 2ms/step - accuracy: 0.8081 - loss: 0.3907 - val_accuracy: 0.7924 - val_loss: 0.5029\n",
      "Epoch 36/50\n",
      "\u001b[1m218/218\u001b[0m \u001b[32m━━━━━━━━━━━━━━━━━━━━\u001b[0m\u001b[37m\u001b[0m \u001b[1m0s\u001b[0m 2ms/step - accuracy: 0.8067 - loss: 0.3881 - val_accuracy: 0.7936 - val_loss: 0.5063\n",
      "Epoch 37/50\n",
      "\u001b[1m218/218\u001b[0m \u001b[32m━━━━━━━━━━━━━━━━━━━━\u001b[0m\u001b[37m\u001b[0m \u001b[1m0s\u001b[0m 2ms/step - accuracy: 0.8134 - loss: 0.3829 - val_accuracy: 0.7959 - val_loss: 0.4789\n",
      "Epoch 38/50\n",
      "\u001b[1m218/218\u001b[0m \u001b[32m━━━━━━━━━━━━━━━━━━━━\u001b[0m\u001b[37m\u001b[0m \u001b[1m1s\u001b[0m 2ms/step - accuracy: 0.8147 - loss: 0.3928 - val_accuracy: 0.7832 - val_loss: 0.5714\n",
      "Epoch 39/50\n",
      "\u001b[1m218/218\u001b[0m \u001b[32m━━━━━━━━━━━━━━━━━━━━\u001b[0m\u001b[37m\u001b[0m \u001b[1m0s\u001b[0m 2ms/step - accuracy: 0.8146 - loss: 0.3853 - val_accuracy: 0.7953 - val_loss: 0.4943\n",
      "Epoch 40/50\n",
      "\u001b[1m218/218\u001b[0m \u001b[32m━━━━━━━━━━━━━━━━━━━━\u001b[0m\u001b[37m\u001b[0m \u001b[1m0s\u001b[0m 2ms/step - accuracy: 0.8071 - loss: 0.3924 - val_accuracy: 0.7982 - val_loss: 0.4661\n",
      "Epoch 41/50\n",
      "\u001b[1m218/218\u001b[0m \u001b[32m━━━━━━━━━━━━━━━━━━━━\u001b[0m\u001b[37m\u001b[0m \u001b[1m0s\u001b[0m 2ms/step - accuracy: 0.8142 - loss: 0.3871 - val_accuracy: 0.7970 - val_loss: 0.4923\n",
      "Epoch 42/50\n",
      "\u001b[1m218/218\u001b[0m \u001b[32m━━━━━━━━━━━━━━━━━━━━\u001b[0m\u001b[37m\u001b[0m \u001b[1m1s\u001b[0m 2ms/step - accuracy: 0.8056 - loss: 0.3924 - val_accuracy: 0.7947 - val_loss: 0.5160\n",
      "Epoch 43/50\n",
      "\u001b[1m218/218\u001b[0m \u001b[32m━━━━━━━━━━━━━━━━━━━━\u001b[0m\u001b[37m\u001b[0m \u001b[1m0s\u001b[0m 2ms/step - accuracy: 0.8215 - loss: 0.3787 - val_accuracy: 0.7959 - val_loss: 0.4969\n",
      "Epoch 44/50\n",
      "\u001b[1m218/218\u001b[0m \u001b[32m━━━━━━━━━━━━━━━━━━━━\u001b[0m\u001b[37m\u001b[0m \u001b[1m0s\u001b[0m 2ms/step - accuracy: 0.8088 - loss: 0.3879 - val_accuracy: 0.7993 - val_loss: 0.4914\n",
      "Epoch 45/50\n",
      "\u001b[1m218/218\u001b[0m \u001b[32m━━━━━━━━━━━━━━━━━━━━\u001b[0m\u001b[37m\u001b[0m \u001b[1m1s\u001b[0m 2ms/step - accuracy: 0.8194 - loss: 0.3725 - val_accuracy: 0.8005 - val_loss: 0.4632\n",
      "Epoch 46/50\n",
      "\u001b[1m218/218\u001b[0m \u001b[32m━━━━━━━━━━━━━━━━━━━━\u001b[0m\u001b[37m\u001b[0m \u001b[1m1s\u001b[0m 3ms/step - accuracy: 0.8110 - loss: 0.3883 - val_accuracy: 0.8039 - val_loss: 0.4772\n",
      "Epoch 47/50\n",
      "\u001b[1m218/218\u001b[0m \u001b[32m━━━━━━━━━━━━━━━━━━━━\u001b[0m\u001b[37m\u001b[0m \u001b[1m1s\u001b[0m 2ms/step - accuracy: 0.8160 - loss: 0.3844 - val_accuracy: 0.7999 - val_loss: 0.4845\n",
      "Epoch 48/50\n",
      "\u001b[1m218/218\u001b[0m \u001b[32m━━━━━━━━━━━━━━━━━━━━\u001b[0m\u001b[37m\u001b[0m \u001b[1m0s\u001b[0m 2ms/step - accuracy: 0.8147 - loss: 0.3839 - val_accuracy: 0.7970 - val_loss: 0.4693\n",
      "Epoch 49/50\n",
      "\u001b[1m218/218\u001b[0m \u001b[32m━━━━━━━━━━━━━━━━━━━━\u001b[0m\u001b[37m\u001b[0m \u001b[1m0s\u001b[0m 2ms/step - accuracy: 0.8122 - loss: 0.3764 - val_accuracy: 0.7999 - val_loss: 0.4741\n",
      "Epoch 50/50\n",
      "\u001b[1m218/218\u001b[0m \u001b[32m━━━━━━━━━━━━━━━━━━━━\u001b[0m\u001b[37m\u001b[0m \u001b[1m0s\u001b[0m 2ms/step - accuracy: 0.8077 - loss: 0.3819 - val_accuracy: 0.8039 - val_loss: 0.4844\n",
      "\u001b[1m134/134\u001b[0m \u001b[32m━━━━━━━━━━━━━━━━━━━━\u001b[0m\u001b[37m\u001b[0m \u001b[1m0s\u001b[0m 2ms/step\n",
      "Neural network predictions saved to 'neural_network_submission.csv'.\n"
     ]
    }
   ],
   "source": [
    "X_train = train_df.drop(\"Transported\", axis=1)\n",
    "Y_train = train_df[\"Transported\"]\n",
    "X_test  = test_df\n",
    "\n",
    "\n",
    "scaler = StandardScaler()\n",
    "X_train_scaled = scaler.fit_transform(X_train)\n",
    "X_test_scaled = scaler.transform(X_test)\n",
    "\n",
    "model = Sequential([\n",
    "    Dense(128, activation='relu', input_shape=(X_train_scaled.shape[1],)),\n",
    "    Dropout(0.5),\n",
    "    Dense(64, activation='relu'),\n",
    "    Dropout(0.3),\n",
    "    Dense(32, activation='relu'),\n",
    "    Dense(1, activation='sigmoid')  \n",
    "])\n",
    "\n",
    "\n",
    "model.compile(optimizer='adam',\n",
    "              loss='binary_crossentropy',  \n",
    "              metrics=['accuracy'])\n",
    "\n",
    "\n",
    "history = model.fit(X_train_scaled, Y_train, epochs=50, batch_size=32, validation_split=0.2, verbose=1)\n",
    "\n",
    "\n",
    "Y_pred = model.predict(X_test_scaled)\n",
    "Y_pred = (Y_pred > 0.5).astype(int)  \n",
    "\n",
    "Y_pred_bool = Y_pred.astype(bool)\n",
    "\n",
    "\n",
    "submission_df = pd.DataFrame({'PassengerId': test_df['PassengerId'], 'Transported': Y_pred_bool.flatten()})\n",
    "submission_df.to_csv('neural_network_submission.csv', index=False)\n",
    "print(\"Neural network predictions saved to 'neural_network_submission.csv'.\")"
   ]
  }
 ],
 "metadata": {
  "kernelspec": {
   "display_name": "Python 3",
   "language": "python",
   "name": "python3"
  },
  "language_info": {
   "codemirror_mode": {
    "name": "ipython",
    "version": 3
   },
   "file_extension": ".py",
   "mimetype": "text/x-python",
   "name": "python",
   "nbconvert_exporter": "python",
   "pygments_lexer": "ipython3",
   "version": "3.11.9"
  }
 },
 "nbformat": 4,
 "nbformat_minor": 2
}
